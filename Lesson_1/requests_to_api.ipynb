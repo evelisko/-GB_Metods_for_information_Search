{
 "cells": [
  {
   "cell_type": "markdown",
   "metadata": {},
   "source": [
    "## Урок 1. Основы клиент-серверного взаимодействия. Парсинг API"
   ]
  },
  {
   "cell_type": "code",
   "execution_count": 1,
   "metadata": {},
   "outputs": [],
   "source": [
    "import requests\n",
    "import os\n",
    "import pandas as pd\n",
    "from pprint import pprint\n",
    "import json\n",
    "import numpy as np"
   ]
  },
  {
   "cell_type": "markdown",
   "metadata": {},
   "source": [
    "### Задание 1. \n",
    "Посмотреть документацию к API GitHub, разобраться как вывести список репозиториев для конкретного пользователя, сохранить JSON-вывод в файле *.json.\n"
   ]
  },
  {
   "cell_type": "code",
   "execution_count": 2,
   "metadata": {},
   "outputs": [],
   "source": [
    "git_url = 'https://api.github.com/users'\n",
    "user = 'evelisko'\n",
    "metod = 'repos'"
   ]
  },
  {
   "cell_type": "code",
   "execution_count": 3,
   "metadata": {},
   "outputs": [],
   "source": [
    "git_response = requests.get(f'{git_url}/{user}/{metod}')"
   ]
  },
  {
   "cell_type": "code",
   "execution_count": 4,
   "metadata": {},
   "outputs": [],
   "source": [
    "data = git_response.json()"
   ]
  },
  {
   "cell_type": "code",
   "execution_count": 5,
   "metadata": {},
   "outputs": [
    {
     "name": "stdout",
     "output_type": "stream",
     "text": [
      "1. Diary\n",
      "2. FileComparator\n",
      "3. GB_Metods_for_information_Search\n",
      "4. GB_Python_Lib_for_DS\n",
      "5. Json_Parser\n",
      "6. Sergey_Keldibekov_Python\n",
      "7. SolutionAnalize\n"
     ]
    }
   ],
   "source": [
    "for i, rep in enumerate(data):\n",
    "    print(f'{i+1}. {rep[\"name\"]}')"
   ]
  },
  {
   "cell_type": "code",
   "execution_count": 6,
   "metadata": {},
   "outputs": [],
   "source": [
    "with open('githubRequest.json','w') as f:\n",
    "       json.dump(data, f,indent=2, ensure_ascii=False)"
   ]
  },
  {
   "cell_type": "markdown",
   "metadata": {},
   "source": [
    "### Задание 2. \n",
    "Изучить список открытых API (https://www.programmableweb.com/category/all/apis). Найти среди них любое, требующее авторизацию (любого типа). Выполнить запросы к нему, пройдя авторизацию. Ответ сервера записать в файл. Если нет желания заморачиваться с поиском, возьмите API вконтакте (https://vk.com/dev/first_guide). Сделайте запрос, чтб получить список всех сообществ на которые вы подписаны."
   ]
  },
  {
   "cell_type": "markdown",
   "metadata": {},
   "source": [
    "Запрос на получение токена: \n",
    " https://oauth.vk.com/authorize?client_id={user_id}&display=page&scope=friends&response_type=token&v=5.110&state=123456\n",
    "\n",
    ", где `user_id` - мой id. "
   ]
  },
  {
   "cell_type": "markdown",
   "metadata": {},
   "source": [
    "**1.** Информация о пользователе.\n"
   ]
  },
  {
   "cell_type": "code",
   "execution_count": 7,
   "metadata": {},
   "outputs": [],
   "source": [
    "token = 'XXXXXX' # !!!\n",
    "\n",
    "vk_url = 'https://api.vk.com/method/'\n",
    "\n",
    "metod='users.get'\n",
    "\n",
    "params = {\n",
    "    'user_id':'210700286', # Для `id` пользователя указанного в примерах из к документации по API. \n",
    "    'fields':'bdate',\n",
    "    'access_token':token,\n",
    "    'v':'5.110'\n",
    "}"
   ]
  },
  {
   "cell_type": "code",
   "execution_count": 8,
   "metadata": {},
   "outputs": [],
   "source": [
    "vk_response = requests.get(vk_url+metod,params=params)"
   ]
  },
  {
   "cell_type": "code",
   "execution_count": 9,
   "metadata": {},
   "outputs": [
    {
     "name": "stdout",
     "output_type": "stream",
     "text": [
      "{'response': [{'bdate': '21.9.1986',\n",
      "               'can_access_closed': True,\n",
      "               'first_name': 'Lindsey',\n",
      "               'id': 210700286,\n",
      "               'is_closed': False,\n",
      "               'last_name': 'Stirling'}]}\n"
     ]
    }
   ],
   "source": [
    "data = vk_response.json()\n",
    "pprint(data)"
   ]
  },
  {
   "cell_type": "code",
   "execution_count": 10,
   "metadata": {},
   "outputs": [],
   "source": [
    "with open('VK_get_User.json','w',encoding='utf-8') as f:\n",
    "   json.dump(data, f,indent=2, ensure_ascii=False)"
   ]
  },
  {
   "cell_type": "markdown",
   "metadata": {},
   "source": [
    "**2.** Список друзей пользователя. "
   ]
  },
  {
   "cell_type": "code",
   "execution_count": 11,
   "metadata": {},
   "outputs": [],
   "source": [
    "metod = 'friends.get'\n",
    "params = {\n",
    "    'user_id':'210700286',\n",
    "    'fields':'bdate',\n",
    "    'access_token':token,\n",
    "    'v':'5.110'\n",
    "}"
   ]
  },
  {
   "cell_type": "code",
   "execution_count": 12,
   "metadata": {},
   "outputs": [],
   "source": [
    "vk_response = requests.get(vk_url+metod,params=params)"
   ]
  },
  {
   "cell_type": "code",
   "execution_count": 13,
   "metadata": {},
   "outputs": [
    {
     "name": "stdout",
     "output_type": "stream",
     "text": [
      "{'response': {'count': 1,\n",
      "              'items': [{'can_access_closed': False,\n",
      "                         'first_name': 'Александр',\n",
      "                         'id': 26047,\n",
      "                         'is_closed': True,\n",
      "                         'last_name': 'Степанов',\n",
      "                         'online': 0,\n",
      "                         'track_code': '03cada31857Mo9h2TS2x2q8NTtvMoBL4smnHrOKe5r4TqKEwzoue9Z7C7SZMK7XZqd-8FyzEcp7A'}]}}\n"
     ]
    }
   ],
   "source": [
    "data = vk_response.json()\n",
    "pprint(data)"
   ]
  },
  {
   "cell_type": "code",
   "execution_count": 14,
   "metadata": {},
   "outputs": [],
   "source": [
    "with open('VK_get_friends.json','w',encoding='utf-8') as f:\n",
    "   json.dump(data, f,indent=2, ensure_ascii=False)"
   ]
  },
  {
   "cell_type": "markdown",
   "metadata": {},
   "source": [
    "**3.** Список моих сообществ. "
   ]
  },
  {
   "cell_type": "code",
   "execution_count": 15,
   "metadata": {},
   "outputs": [],
   "source": [
    "metod = 'groups.get'\n",
    "params = {\n",
    "    'extended':'1',\n",
    "    'fields':'bdate',\n",
    "    'access_token':token,\n",
    "    'v':'5.110'\n",
    "}"
   ]
  },
  {
   "cell_type": "code",
   "execution_count": 16,
   "metadata": {},
   "outputs": [],
   "source": [
    "vk_response = requests.get(vk_url+metod,params=params)"
   ]
  },
  {
   "cell_type": "code",
   "execution_count": 17,
   "metadata": {},
   "outputs": [],
   "source": [
    "data = vk_response.json()"
   ]
  },
  {
   "cell_type": "code",
   "execution_count": 18,
   "metadata": {},
   "outputs": [
    {
     "data": {
      "text/plain": [
       "0       Активные путешествия | www.a-trip.ru\n",
       "1                                   Здоровье\n",
       "2                             Мозговой Штурм\n",
       "3          АНАТОМИЯ ШПАГАТА | Александр Угай\n",
       "4    РЮКЗАК ЗА ПЛЕЧИ И ПОШЁЛ| Походы| Туризм\n",
       "5                    Библиотека программиста\n",
       "6                            Английский язык\n",
       "Name: name, dtype: object"
      ]
     },
     "execution_count": 18,
     "metadata": {},
     "output_type": "execute_result"
    }
   ],
   "source": [
    "df = pd.DataFrame(data[\"response\"][\"items\"]) \n",
    "df[\"name\"].head(7)"
   ]
  },
  {
   "cell_type": "code",
   "execution_count": 19,
   "metadata": {},
   "outputs": [],
   "source": [
    "for i, rep in enumerate(data[\"response\"][\"items\"]):\n",
    "     print(f'{i+1}. {rep[\"name\"]}')"
   ]
  }
 ],
 "metadata": {
  "kernelspec": {
   "display_name": "Python 3",
   "language": "python",
   "name": "python3"
  },
  "language_info": {
   "codemirror_mode": {
    "name": "ipython",
    "version": 3
   },
   "file_extension": ".py",
   "mimetype": "text/x-python",
   "name": "python",
   "nbconvert_exporter": "python",
   "pygments_lexer": "ipython3",
   "version": "3.7.6"
  }
 },
 "nbformat": 4,
 "nbformat_minor": 4
}
