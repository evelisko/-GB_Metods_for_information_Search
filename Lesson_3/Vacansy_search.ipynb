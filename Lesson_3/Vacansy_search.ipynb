{
 "cells": [
  {
   "cell_type": "markdown",
   "metadata": {},
   "source": [
    "## Урок 3. Системы управления базами данных MongoDB и SQLite в Python\n",
    "\n",
    "#### Домашнее задание \n",
    "\n",
    "**1.** Развернуть  у  себя  на  компьютере/виртуальной  машине/хостинге  MongoDB  и  реализовать \n",
    "функцию, записывающую собранные вакансии в созданную БД. \n",
    "\n",
    "**2.** Написать  функцию,  которая  производит  поиск  и  выводит  на  экран  вакансии  с  заработной \n",
    "платой больше введённой суммы. \n",
    "\n",
    "**3.** Написать  функцию, которая будет добавлять в вашу базу данных только новые вакансии с \n",
    "сайта. \n"
   ]
  },
  {
   "cell_type": "markdown",
   "metadata": {},
   "source": [
    "### Пояснение к решению.\n",
    "\n",
    "Т.к. в третьем задании возникает необходимость частично дублируется операция по поиску вакансии, то чтобы \n",
    "не увеличивать сократить  повоторять операции \n",
    "\n",
    "Последовательность выполнения операций переосмысленна. \n",
    "Логика работы программы теперь следующая:\n",
    "1. Сначасла создается (если еще не была создана) БД `vacancy_db`. \n",
    "2. Получает из БД id всех вакансий и складывает из в массив `vacancy_id`. \n",
    "3. Далее, вызывается поиск вакансий на сайте **HH.ru**.  Поиск вакансии осуществляется внутри функции `vacancyes_on_hh`. В качестве парамеров в нее прередаются строка с названием вакансии `vacancy_name` и массив `vacancy_id`. Функция проходится по всем найденным вакансиям. И если id найденных вакансий еще нет в `vacancy_id`, то добавляет их в словарь `vacancy`.  \n",
    "4. Словарь `vacancy`, полученный в результате работы функции `vacancyes_on_hh` добаваляется к существующим записям в БД. \n",
    "\n",
    "5. И, в качестве вишенки на торте, выполняем в БД выборку вакансий с зарплатой от 10000 руб. \n",
    "\n",
    "-----------------------------------------------------\n",
    "В блокноте реализовал поиск только для HH.ru. \n",
    "\n",
    "Относительно кода из предыдущего урока.\n",
    "  *  Добавилена проверка на None для всех полей попадающих в словарь.\n",
    "  *  Поиск определение суммы зарплаты теперь выполняеся с помощью регулярного выражения.\n",
    "  *  Сама процесс поиска теперь вынесен в отдельную процедуру. "
   ]
  },
  {
   "cell_type": "code",
   "execution_count": 19,
   "metadata": {},
   "outputs": [],
   "source": [
    "from bs4 import BeautifulSoup as bs\n",
    "import requests\n",
    "from pprint import pprint\n",
    "import pandas as pd\n",
    "import json\n",
    "import re"
   ]
  },
  {
   "cell_type": "code",
   "execution_count": 20,
   "metadata": {},
   "outputs": [],
   "source": [
    "from pymongo import MongoClient"
   ]
  },
  {
   "cell_type": "code",
   "execution_count": 21,
   "metadata": {},
   "outputs": [],
   "source": [
    "header = {\n",
    "    'User-Agent': 'Mozilla/5.0 (Windows NT 10.0; Win64; x64) AppleWebKit/537.36 (KHTML, like Gecko) Chrome/83.0.4103.106 Safari/537.36',\n",
    "    'charset': 'utf-8'\n",
    "}\n",
    "\n",
    "main_link = 'https://izhevsk.hh.ru/search/vacancy?L_is_autosearch=false&area=113&clusters=true&enable_snippets=true'"
   ]
  },
  {
   "cell_type": "code",
   "execution_count": 22,
   "metadata": {},
   "outputs": [],
   "source": [
    "text = 'C++ Developer'  # 'Machine+Learning+Engineer'"
   ]
  },
  {
   "cell_type": "code",
   "execution_count": 23,
   "metadata": {},
   "outputs": [],
   "source": [
    "def selary_analizer(selary_txt):  # возвращает массив содержащий значение зарбплаты.\n",
    "    min_selary = None\n",
    "    max_selary = None\n",
    "    money_type = None\n",
    "    symbols = ['от', 'до']\n",
    "\n",
    "    if selary_txt != '' and selary_txt != 'По договорённости':  # 'проверяем наличие символов в строке'\n",
    "        selary_txt = selary_txt.replace('—\\xa0', '')\n",
    "        selary_txt = selary_txt.replace('-', ' ')\n",
    "        selary_txt = selary_txt.replace('\\xa0', ' ')\n",
    "        selary_txt = selary_txt.replace('./месяц', '')\n",
    "        selary_array = selary_txt.split(' ')\n",
    "        money_type = selary_array[-1].rstrip('.')\n",
    "\n",
    "        if selary_array[0] == symbols[0]:  # от\n",
    "            min_selary = re.findall(r'\\d{1,8}', selary_array[1] + selary_array[2])[0]\n",
    "        elif selary_array[0] == symbols[1]:  # до\n",
    "            max_selary = re.findall(r'\\d{1,8}', selary_array[1] + selary_array[2])[0]\n",
    "        elif (len(selary_array) < 4):  # до\n",
    "            max_selary = re.findall(r'\\d{1,8}', selary_array[0] + selary_array[1])[0]\n",
    "        else:  # -\n",
    "            min_selary = re.findall(r'\\d{1,8}',selary_array[0] + selary_array[1])[0]\n",
    "            max_selary = re.findall(r'\\d{1,8}',selary_array[2] + selary_array[3])[0]\n",
    "\n",
    "    return [min_selary, max_selary, money_type]"
   ]
  },
  {
   "cell_type": "markdown",
   "metadata": {},
   "source": [
    "#### Поиск Вакансии на сайте  https://hh.ru"
   ]
  },
  {
   "cell_type": "code",
   "execution_count": 24,
   "metadata": {},
   "outputs": [],
   "source": [
    "def vacancyes_on_hh(follow_vacancy,id_list): \n",
    "    \n",
    "    vacancy = [] # Словарь в котором будет храниться список вакансий.  \n",
    "    page = 0\n",
    "    is_next_page = True  # Флаг поназываюций что есть еще страницы.\n",
    "    errors = 0\n",
    "    new_vacancy = 0\n",
    "    i = 0\n",
    "    while is_next_page == True:\n",
    "        response = requests.get(f'{main_link}&text={follow_vacancy}&page={page}', headers=header)\n",
    "#       print(' ')\n",
    "#       print(response.url)\n",
    "        soup = bs(response.text, 'lxml')\n",
    "\n",
    "        btn_next = soup.find('a', {'class': \"HH-Pager-Controls-Next\"})\n",
    "\n",
    "        if btn_next != None:\n",
    "            page += 1\n",
    "        else:\n",
    "            is_next_page = False\n",
    "\n",
    "        vacancy_block = soup.find('div', {'class': 'vacancy-serp'})\n",
    "        divs = vacancy_block.findChildren(recursive=False)\n",
    "\n",
    "\n",
    "        for vk in divs:\n",
    "            vacancy_data = {}\n",
    "            try:\n",
    "                if vk.attrs['class'][0] == 'vacancy-serp-item':\n",
    "                    i += 1\n",
    "                    # Ссылка на вакансию.\n",
    "                    vacancy_id = None\n",
    "                    vk_href = vk.find('a', {'class': 'bloko-link HH-LinkModifier'})\n",
    "\n",
    "                    if vk_href is not None:\n",
    "                        vk_href = vk_href['href']\n",
    "                        vacancy_id = re.findall(r'\\d{1,8}', vk_href)[0]\n",
    "                        \n",
    "                        if vacancy_id in id_list: # Прверяем сущесвует ли уже запись о даной вакансии в БД. \n",
    "                            continue\n",
    "                        \n",
    "                    vacancy_name = vk.find('div', {'class': 'vacancy-serp-item__info'})\n",
    "                    if vacancy_name is not None:\n",
    "                        vacancy_name = vacancy_name.getText()\n",
    "\n",
    "                    min_selary, max_selary, money_type = None,None,None\n",
    "                    selary_txt = vk.find('div', {'class': 'vacancy-serp-item__sidebar'})\n",
    "                    if selary_txt is not None:\n",
    "                        selary_txt = selary_txt.getText()\n",
    "                        min_selary, max_selary, money_type = selary_analizer(selary_txt)\n",
    "\n",
    "                    # Название фирмы.\n",
    "                    vk_employer = vk.find('a', {'data-qa': \"vacancy-serp__vacancy-employer\"})\n",
    "                    if vk_employer is not None:\n",
    "                        vk_employer = vk_employer.getText()\n",
    "\n",
    "                    vk_employer_id =vk.find('a', {'data-qa': \"vacancy-serp__vacancy-employer\"})\n",
    "                    if vk_employer_id is not None:\n",
    "                        vk_employer_id ='https://izhevsk.hh.ru' + vk_employer_id['href']\n",
    "\n",
    "                    # Город расположения.\n",
    "                    vk_location = vk.find('span', {'data-qa': \"vacancy-serp__vacancy-address\"})\n",
    "                    if vk_location is not None:\n",
    "                        vk_location = vk_location.getText()\n",
    "\n",
    "                    # Дата публикации.\n",
    "                    vacancy_date = vk.find('span', {'data-qa': \"vacancy-serp__vacancy-date\"})\n",
    "                    if vacancy_date is not None:\n",
    "                        vacancy_date = vacancy_date.getText()\n",
    "                    \n",
    "                    if min_selary is not None:\n",
    "                        min_selary = float(min_selary)\n",
    "                    \n",
    "                    if max_selary is not None:\n",
    "                        max_selary = float(max_selary)\n",
    "                       \n",
    "                    new_vacancy += 1\n",
    "                    \n",
    "                    vacancy_data['name'] = vacancy_name\n",
    "                    vacancy_data['employer'] = vk_employer\n",
    "                    vacancy_data['location'] = vk_location\n",
    "                    vacancy_data['min_selary'] = min_selary\n",
    "                    vacancy_data['max_selary'] = max_selary\n",
    "                    vacancy_data['money_type'] = money_type\n",
    "                    # vacancy_data['publicatin_date'] = vacancy_date\n",
    "                    vacancy_data['href'] = vk_href\n",
    "                    vacancy_data['employer_id'] = vk_employer_id\n",
    "                    vacancy_data['source'] = 'https://hh.ru/'\n",
    "                    vacancy_data['vacancy_id'] = vacancy_id\n",
    "                    vacancy.append(vacancy_data)\n",
    "\n",
    "            except Exception as ex:\n",
    "                 errors += 1   \n",
    "\n",
    "            print(\"\", end=\"\\r\")\n",
    "            print(f'Найдено вакансий: {i}',end=\" \")\n",
    "    print(' ')\n",
    "    print(f'Новых вакансий : {new_vacancy}')\n",
    "    print(f'Страниц :{page + 1}')\n",
    "    print(f'Ошибок: {errors}' )\n",
    "   \n",
    "    \n",
    "    return vacancy"
   ]
  },
  {
   "cell_type": "markdown",
   "metadata": {},
   "source": [
    "1. Создается (если еще не была создана) БД vacancy_db."
   ]
  },
  {
   "cell_type": "code",
   "execution_count": 25,
   "metadata": {},
   "outputs": [],
   "source": [
    "client = MongoClient('localhost',27017)"
   ]
  },
  {
   "cell_type": "code",
   "execution_count": 26,
   "metadata": {},
   "outputs": [],
   "source": [
    "db = client['vacancy_db']"
   ]
  },
  {
   "cell_type": "code",
   "execution_count": 27,
   "metadata": {},
   "outputs": [],
   "source": [
    "hh_collection = db.vacancy_db"
   ]
  },
  {
   "cell_type": "markdown",
   "metadata": {},
   "source": [
    "2. Получаем список всех id для конкретной вакансии. "
   ]
  },
  {
   "cell_type": "code",
   "execution_count": 28,
   "metadata": {},
   "outputs": [],
   "source": [
    "vc1 = hh_collection.find({},{'_id':0,'vacancy_id':1})\n",
    "\n",
    "id_list = [i['vacancy_id'] for i in vc1] "
   ]
  },
  {
   "cell_type": "code",
   "execution_count": 29,
   "metadata": {},
   "outputs": [
    {
     "name": "stdout",
     "output_type": "stream",
     "text": [
      "Число вакансий для hh хранящихся в БД: 2000\n"
     ]
    }
   ],
   "source": [
    "print(f'Число вакансий для hh хранящихся в БД: {len(id_list)}')"
   ]
  },
  {
   "cell_type": "markdown",
   "metadata": {},
   "source": [
    "3. Выполняем поиск вакансий, соответствующих заданным критериям"
   ]
  },
  {
   "cell_type": "code",
   "execution_count": 30,
   "metadata": {},
   "outputs": [
    {
     "name": "stdout",
     "output_type": "stream",
     "text": [
      "Найдено вакансий: 2000  \n",
      "Новых вакансий : 158\n",
      "Страниц :40\n",
      "Ошибок: 0\n"
     ]
    }
   ],
   "source": [
    "vacancy = vacancyes_on_hh(text,id_list)"
   ]
  },
  {
   "cell_type": "code",
   "execution_count": 31,
   "metadata": {},
   "outputs": [
    {
     "data": {
      "text/plain": [
       "158"
      ]
     },
     "execution_count": 31,
     "metadata": {},
     "output_type": "execute_result"
    }
   ],
   "source": [
    "len(vacancy)"
   ]
  },
  {
   "cell_type": "markdown",
   "metadata": {},
   "source": [
    "4. Записываем новые найденные новые вакании в БД "
   ]
  },
  {
   "cell_type": "code",
   "execution_count": 32,
   "metadata": {},
   "outputs": [
    {
     "data": {
      "text/plain": [
       "<pymongo.results.InsertManyResult at 0x25096659c08>"
      ]
     },
     "execution_count": 32,
     "metadata": {},
     "output_type": "execute_result"
    }
   ],
   "source": [
    "hh_collection.insert_many(vacancy)"
   ]
  },
  {
   "cell_type": "markdown",
   "metadata": {},
   "source": [
    "5. Выполняем поиск вакансий с зарбплатой выше заданной суммы. Предварительно выполнив перево зарплаты из рублей в доллары и евро. "
   ]
  },
  {
   "cell_type": "code",
   "execution_count": 33,
   "metadata": {},
   "outputs": [
    {
     "name": "stdout",
     "output_type": "stream",
     "text": [
      "selary_rub: 1000.00\n",
      "selary_USD: 14.03\n",
      "selary_EUR: 12.50\n"
     ]
    }
   ],
   "source": [
    "follow_selary = 1000\n",
    "\n",
    "# Выполняем перевод\n",
    "selary_rub = follow_selary\n",
    "# Рублей в доллоры \n",
    "selary_us = 1.0/71.28 * follow_selary\n",
    "# Рублей в евро\n",
    "selary_eur = 1.0/80.00 * follow_selary\n",
    "\n",
    "print(f'selary_rub: {selary_rub:.02f}')\n",
    "print(f'selary_USD: {selary_us:.02f}')\n",
    "print(f'selary_EUR: {selary_eur:.02f}')"
   ]
  },
  {
   "cell_type": "code",
   "execution_count": 34,
   "metadata": {},
   "outputs": [
    {
     "data": {
      "text/html": [
       "<div>\n",
       "<style scoped>\n",
       "    .dataframe tbody tr th:only-of-type {\n",
       "        vertical-align: middle;\n",
       "    }\n",
       "\n",
       "    .dataframe tbody tr th {\n",
       "        vertical-align: top;\n",
       "    }\n",
       "\n",
       "    .dataframe thead th {\n",
       "        text-align: right;\n",
       "    }\n",
       "</style>\n",
       "<table border=\"1\" class=\"dataframe\">\n",
       "  <thead>\n",
       "    <tr style=\"text-align: right;\">\n",
       "      <th></th>\n",
       "      <th>name</th>\n",
       "      <th>employer</th>\n",
       "      <th>location</th>\n",
       "      <th>min_selary</th>\n",
       "      <th>max_selary</th>\n",
       "      <th>money_type</th>\n",
       "      <th>source</th>\n",
       "      <th>vacancy_id</th>\n",
       "    </tr>\n",
       "  </thead>\n",
       "  <tbody>\n",
       "    <tr>\n",
       "      <th>0</th>\n",
       "      <td>Программист С++</td>\n",
       "      <td>Graebert GmbH</td>\n",
       "      <td>Санкт-Петербург, Горьковская</td>\n",
       "      <td>2300.0</td>\n",
       "      <td>2800.0</td>\n",
       "      <td>USD</td>\n",
       "      <td>https://hh.ru/</td>\n",
       "      <td>189310</td>\n",
       "    </tr>\n",
       "    <tr>\n",
       "      <th>1</th>\n",
       "      <td>Коммерческий директор</td>\n",
       "      <td>SIA Egamings</td>\n",
       "      <td>Москва</td>\n",
       "      <td>3000.0</td>\n",
       "      <td>7000.0</td>\n",
       "      <td>EUR</td>\n",
       "      <td>https://hh.ru/</td>\n",
       "      <td>37741055</td>\n",
       "    </tr>\n",
       "    <tr>\n",
       "      <th>2</th>\n",
       "      <td>Руководитель отдела продаж / Директор по продажам</td>\n",
       "      <td>Zoletto</td>\n",
       "      <td>Москва</td>\n",
       "      <td>150000.0</td>\n",
       "      <td>270000.0</td>\n",
       "      <td>руб</td>\n",
       "      <td>https://hh.ru/</td>\n",
       "      <td>37713537</td>\n",
       "    </tr>\n",
       "    <tr>\n",
       "      <th>3</th>\n",
       "      <td>Field Marketing</td>\n",
       "      <td>EPLAN, Компания</td>\n",
       "      <td>Москва, Аэропорт</td>\n",
       "      <td>100000.0</td>\n",
       "      <td>150000.0</td>\n",
       "      <td>руб</td>\n",
       "      <td>https://hh.ru/</td>\n",
       "      <td>37764604</td>\n",
       "    </tr>\n",
       "    <tr>\n",
       "      <th>4</th>\n",
       "      <td>Программист С++/Драйверист</td>\n",
       "      <td>Searchinform</td>\n",
       "      <td>Ростов-на-Дону</td>\n",
       "      <td>100000.0</td>\n",
       "      <td>150000.0</td>\n",
       "      <td>руб</td>\n",
       "      <td>https://hh.ru/</td>\n",
       "      <td>36712554</td>\n",
       "    </tr>\n",
       "  </tbody>\n",
       "</table>\n",
       "</div>"
      ],
      "text/plain": [
       "                                                name          employer  \\\n",
       "0                                    Программист С++     Graebert GmbH   \n",
       "1                              Коммерческий директор      SIA Egamings   \n",
       "2  Руководитель отдела продаж / Директор по продажам           Zoletto   \n",
       "3                                    Field Marketing   EPLAN, Компания   \n",
       "4                         Программист С++/Драйверист      Searchinform   \n",
       "\n",
       "                       location  min_selary  max_selary money_type  \\\n",
       "0  Санкт-Петербург, Горьковская      2300.0      2800.0        USD   \n",
       "1                        Москва      3000.0      7000.0        EUR   \n",
       "2                        Москва    150000.0    270000.0        руб   \n",
       "3              Москва, Аэропорт    100000.0    150000.0        руб   \n",
       "4                Ростов-на-Дону    100000.0    150000.0        руб   \n",
       "\n",
       "           source vacancy_id  \n",
       "0  https://hh.ru/     189310  \n",
       "1  https://hh.ru/   37741055  \n",
       "2  https://hh.ru/   37713537  \n",
       "3  https://hh.ru/   37764604  \n",
       "4  https://hh.ru/   36712554  "
      ]
     },
     "execution_count": 34,
     "metadata": {},
     "output_type": "execute_result"
    }
   ],
   "source": [
    "vc = hh_collection.find({'$or':[\n",
    "                         {'$and':[{'max_selary':{'$gt':selary_rub}},{'money_type':'руб'}]},\n",
    "                         {'$and':[{'max_selary':{'$gt':selary_eur}},{'money_type':'EUR'}]},\n",
    "                         {'$and':[{'max_selary':{'$gt':selary_us}},{'money_type':'USD'}]}]},\n",
    "                         {'_id':0,'href':0,'employer_id':0}\n",
    "                        ).limit(5)\n",
    "pd.DataFrame(vc)"
   ]
  },
  {
   "cell_type": "code",
   "execution_count": 35,
   "metadata": {},
   "outputs": [],
   "source": [
    "# hh_collection.drop()"
   ]
  }
 ],
 "metadata": {
  "kernelspec": {
   "display_name": "Python 3",
   "language": "python",
   "name": "python3"
  },
  "language_info": {
   "codemirror_mode": {
    "name": "ipython",
    "version": 3
   },
   "file_extension": ".py",
   "mimetype": "text/x-python",
   "name": "python",
   "nbconvert_exporter": "python",
   "pygments_lexer": "ipython3",
   "version": "3.7.6"
  }
 },
 "nbformat": 4,
 "nbformat_minor": 4
}
