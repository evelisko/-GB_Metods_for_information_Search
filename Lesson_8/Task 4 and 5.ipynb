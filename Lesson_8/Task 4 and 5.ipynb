{
 "cells": [
  {
   "cell_type": "code",
   "execution_count": 1,
   "metadata": {},
   "outputs": [],
   "source": [
    "from pymongo import MongoClient\n",
    "import pandas as pd"
   ]
  },
  {
   "cell_type": "code",
   "execution_count": 2,
   "metadata": {},
   "outputs": [],
   "source": [
    "client = MongoClient('localhost',27017)"
   ]
  },
  {
   "cell_type": "code",
   "execution_count": 3,
   "metadata": {},
   "outputs": [],
   "source": [
    "db = client['instagram_users_db']"
   ]
  },
  {
   "cell_type": "markdown",
   "metadata": {},
   "source": [
    "Аккаунты в Instaram, для которых выполнялся поиск подписок и подписчиков:\n",
    "1. ai_machine_learning,\n",
    "2. raspberrypi,\n",
    "3. madmaxmovie"
   ]
  },
  {
   "cell_type": "markdown",
   "metadata": {},
   "source": [
    "### Задания"
   ]
  },
  {
   "cell_type": "markdown",
   "metadata": {},
   "source": [
    "**4)** Написать запрос к базе, который вернет список подписчиков только указанного пользователя"
   ]
  },
  {
   "cell_type": "code",
   "execution_count": 4,
   "metadata": {},
   "outputs": [
    {
     "data": {
      "text/html": [
       "<div>\n",
       "<style scoped>\n",
       "    .dataframe tbody tr th:only-of-type {\n",
       "        vertical-align: middle;\n",
       "    }\n",
       "\n",
       "    .dataframe tbody tr th {\n",
       "        vertical-align: top;\n",
       "    }\n",
       "\n",
       "    .dataframe thead th {\n",
       "        text-align: right;\n",
       "    }\n",
       "</style>\n",
       "<table border=\"1\" class=\"dataframe\">\n",
       "  <thead>\n",
       "    <tr style=\"text-align: right;\">\n",
       "      <th></th>\n",
       "      <th>follow_full_name</th>\n",
       "    </tr>\n",
       "  </thead>\n",
       "  <tbody>\n",
       "    <tr>\n",
       "      <th>0</th>\n",
       "      <td>Faby Sunshine</td>\n",
       "    </tr>\n",
       "    <tr>\n",
       "      <th>1</th>\n",
       "      <td>Jason Winter</td>\n",
       "    </tr>\n",
       "    <tr>\n",
       "      <th>2</th>\n",
       "      <td>Peter Martinek</td>\n",
       "    </tr>\n",
       "    <tr>\n",
       "      <th>3</th>\n",
       "      <td>Bárbara Livier</td>\n",
       "    </tr>\n",
       "    <tr>\n",
       "      <th>4</th>\n",
       "      <td>danieldesouzacosta</td>\n",
       "    </tr>\n",
       "  </tbody>\n",
       "</table>\n",
       "</div>"
      ],
      "text/plain": [
       "     follow_full_name\n",
       "0       Faby Sunshine\n",
       "1        Jason Winter\n",
       "2      Peter Martinek\n",
       "3      Bárbara Livier\n",
       "4  danieldesouzacosta"
      ]
     },
     "execution_count": 4,
     "metadata": {},
     "output_type": "execute_result"
    }
   ],
   "source": [
    "users = db.follower.find({'current_user_name':\"madmaxmovie\"},{'_id':0,'follow_full_name':1}).limit(5)\n",
    "pd.DataFrame(users)"
   ]
  },
  {
   "cell_type": "markdown",
   "metadata": {},
   "source": [
    "**5)** Написать запрос к базе, который вернет список профилей, на кого подписан указанный пользователь"
   ]
  },
  {
   "cell_type": "code",
   "execution_count": 5,
   "metadata": {},
   "outputs": [
    {
     "data": {
      "text/html": [
       "<div>\n",
       "<style scoped>\n",
       "    .dataframe tbody tr th:only-of-type {\n",
       "        vertical-align: middle;\n",
       "    }\n",
       "\n",
       "    .dataframe tbody tr th {\n",
       "        vertical-align: top;\n",
       "    }\n",
       "\n",
       "    .dataframe thead th {\n",
       "        text-align: right;\n",
       "    }\n",
       "</style>\n",
       "<table border=\"1\" class=\"dataframe\">\n",
       "  <thead>\n",
       "    <tr style=\"text-align: right;\">\n",
       "      <th></th>\n",
       "      <th>current_user_name</th>\n",
       "      <th>current_user_id</th>\n",
       "      <th>follow_id</th>\n",
       "      <th>follow_name</th>\n",
       "      <th>follow_full_name</th>\n",
       "      <th>follow_pic_url</th>\n",
       "      <th>follow_user_type</th>\n",
       "    </tr>\n",
       "  </thead>\n",
       "  <tbody>\n",
       "    <tr>\n",
       "      <th>0</th>\n",
       "      <td>raspberrypi</td>\n",
       "      <td>2229200498</td>\n",
       "      <td>38408403920</td>\n",
       "      <td>thehammady</td>\n",
       "      <td>Abdullah Sharaf</td>\n",
       "      <td>https://scontent-arn2-2.cdninstagram.com/v/t51...</td>\n",
       "      <td>follower</td>\n",
       "    </tr>\n",
       "    <tr>\n",
       "      <th>1</th>\n",
       "      <td>raspberrypi</td>\n",
       "      <td>2229200498</td>\n",
       "      <td>3315760531</td>\n",
       "      <td>d.e.v_ps</td>\n",
       "      <td>𝙳𝚎𝚟 𝙿𝚛𝚘𝚝𝚒𝚖 𝚂𝚒𝚔𝚍𝚊𝚛</td>\n",
       "      <td>https://scontent-arn2-2.cdninstagram.com/v/t51...</td>\n",
       "      <td>follower</td>\n",
       "    </tr>\n",
       "    <tr>\n",
       "      <th>2</th>\n",
       "      <td>raspberrypi</td>\n",
       "      <td>2229200498</td>\n",
       "      <td>39021496651</td>\n",
       "      <td>jeffery_w_h</td>\n",
       "      <td></td>\n",
       "      <td>https://scontent-arn2-2.cdninstagram.com/v/t51...</td>\n",
       "      <td>follower</td>\n",
       "    </tr>\n",
       "    <tr>\n",
       "      <th>3</th>\n",
       "      <td>raspberrypi</td>\n",
       "      <td>2229200498</td>\n",
       "      <td>6638602763</td>\n",
       "      <td>rounakagrawal7</td>\n",
       "      <td>Rounak Agrawal</td>\n",
       "      <td>https://scontent-arn2-2.cdninstagram.com/v/t51...</td>\n",
       "      <td>follower</td>\n",
       "    </tr>\n",
       "    <tr>\n",
       "      <th>4</th>\n",
       "      <td>raspberrypi</td>\n",
       "      <td>2229200498</td>\n",
       "      <td>343133118</td>\n",
       "      <td>jpbu</td>\n",
       "      <td>Johannes Budau</td>\n",
       "      <td>https://scontent-arn2-2.cdninstagram.com/v/t51...</td>\n",
       "      <td>follower</td>\n",
       "    </tr>\n",
       "  </tbody>\n",
       "</table>\n",
       "</div>"
      ],
      "text/plain": [
       "  current_user_name current_user_id    follow_id     follow_name  \\\n",
       "0       raspberrypi      2229200498  38408403920      thehammady   \n",
       "1       raspberrypi      2229200498   3315760531        d.e.v_ps   \n",
       "2       raspberrypi      2229200498  39021496651     jeffery_w_h   \n",
       "3       raspberrypi      2229200498   6638602763  rounakagrawal7   \n",
       "4       raspberrypi      2229200498    343133118            jpbu   \n",
       "\n",
       "    follow_full_name                                     follow_pic_url  \\\n",
       "0    Abdullah Sharaf  https://scontent-arn2-2.cdninstagram.com/v/t51...   \n",
       "1  𝙳𝚎𝚟 𝙿𝚛𝚘𝚝𝚒𝚖 𝚂𝚒𝚔𝚍𝚊𝚛  https://scontent-arn2-2.cdninstagram.com/v/t51...   \n",
       "2                     https://scontent-arn2-2.cdninstagram.com/v/t51...   \n",
       "3     Rounak Agrawal  https://scontent-arn2-2.cdninstagram.com/v/t51...   \n",
       "4     Johannes Budau  https://scontent-arn2-2.cdninstagram.com/v/t51...   \n",
       "\n",
       "  follow_user_type  \n",
       "0         follower  \n",
       "1         follower  \n",
       "2         follower  \n",
       "3         follower  \n",
       "4         follower  "
      ]
     },
     "execution_count": 5,
     "metadata": {},
     "output_type": "execute_result"
    }
   ],
   "source": [
    "users = db.follower.find({'current_user_name':\"raspberrypi\"},{'_id':0}).limit(5)\n",
    "pd.DataFrame(users)"
   ]
  }
 ],
 "metadata": {
  "kernelspec": {
   "display_name": "Python 3",
   "language": "python",
   "name": "python3"
  },
  "language_info": {
   "codemirror_mode": {
    "name": "ipython",
    "version": 3
   },
   "file_extension": ".py",
   "mimetype": "text/x-python",
   "name": "python",
   "nbconvert_exporter": "python",
   "pygments_lexer": "ipython3",
   "version": "3.7.6"
  }
 },
 "nbformat": 4,
 "nbformat_minor": 4
}
