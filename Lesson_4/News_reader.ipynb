{
 "cells": [
  {
   "cell_type": "markdown",
   "metadata": {},
   "source": [
    "### Урок 4. Парсинг HTML. XPath\n",
    "**1)** Написать приложение, которое собирает основные новости с сайтов **news.mail.ru**, **lenta.ru**, **yandex.news**\n",
    "  Для парсинга использовать xpath. Структура данных должна содержать:\n",
    "  название источника,\n",
    "  наименование новости,\n",
    "  ссылку на новость,\n",
    "  дата публикации\n",
    "\n",
    "**2)** Сложить все новости в БД"
   ]
  },
  {
   "cell_type": "code",
   "execution_count": 1,
   "metadata": {},
   "outputs": [],
   "source": [
    "import datetime\n",
    "import re\n",
    "from pprint import pprint\n",
    "\n",
    "import requests\n",
    "from lxml import html\n",
    "from pymongo import MongoClient\n",
    "import pandas as pd"
   ]
  },
  {
   "cell_type": "code",
   "execution_count": 2,
   "metadata": {},
   "outputs": [],
   "source": [
    "yandex_news = 'https://yandex.ru/news/?from=tabbar'\n",
    "lenta_news = 'https://lenta.ru/'\n",
    "mail_news = 'https://news.mail.ru/?from=menu'"
   ]
  },
  {
   "cell_type": "code",
   "execution_count": 3,
   "metadata": {},
   "outputs": [],
   "source": [
    "header = {'User-Agent': 'Mozilla/5.0 (Windows NT 10.0; Win64; x64) AppleWebKit/537.36'\n",
    "          ' (KHTML, like Gecko) Chrome/83.0.4103.116 Safari/537.36'}"
   ]
  },
  {
   "cell_type": "markdown",
   "metadata": {},
   "source": [
    "На каждом из сайтов используется свой формат записи даты публикации сообщений. Функции `lenta_time_date_converter`, `yandex_time_date_converter` и `mail_time_date_converter` приводят значение даты публикации к формату **datetime**."
   ]
  },
  {
   "cell_type": "code",
   "execution_count": 4,
   "metadata": {},
   "outputs": [],
   "source": [
    "mounths = ['января', 'февраля', 'марта', 'апреля', 'мая', 'июня', 'июля', 'августа', 'сентября', 'октября', 'ноября',\n",
    "           'декабря']"
   ]
  },
  {
   "cell_type": "code",
   "execution_count": 5,
   "metadata": {},
   "outputs": [],
   "source": [
    "def lenta_time_date_converter(date_time_text):\n",
    "    date_time = None\n",
    "    try:\n",
    "        date_time_text = date_time_text.replace(', ', '')\n",
    "        tmp_array = date_time_text.strip(' ')\n",
    "        tmp_array = tmp_array.split(' ')\n",
    "        day_ = int(tmp_array[1])\n",
    "        mounth_ = mounths.index(tmp_array[2]) + 1\n",
    "        year_ = int(tmp_array[3])\n",
    "        tmp_time = tmp_array[0].split(':')\n",
    "        hour_ = int(tmp_time[0])\n",
    "        minutes_ = int(tmp_time[1])\n",
    "        date_time = datetime.datetime(year_, mounth_, day_, hour_, minutes_)\n",
    "    except Exception as ex:\n",
    "        print(f'lenta_date_converter: {ex}')\n",
    "    return date_time"
   ]
  },
  {
   "cell_type": "code",
   "execution_count": 6,
   "metadata": {},
   "outputs": [],
   "source": [
    "def yandex_time_date_converter(date_time_text, is_yesterday):\n",
    "    date_time = None\n",
    "    try:\n",
    "        tmp_time = date_time_text.split(':')\n",
    "        hour_ = int(tmp_time[0].strip())\n",
    "        minutes_ = int(tmp_time[1].strip())\n",
    "        date_ = datetime.date.today()\n",
    "        date_time = datetime.datetime(date_.year, date_.month, date_.day, hour_, minutes_)\n",
    "        if is_yesterday:\n",
    "            date_time = date_time - datetime.timedelta(1)\n",
    "    except Exception as ex:\n",
    "        print(f'yandex_date_converter: {ex}')\n",
    "    return date_time\n"
   ]
  },
  {
   "cell_type": "code",
   "execution_count": 7,
   "metadata": {},
   "outputs": [],
   "source": [
    "def mail_time_date_converter(date_time_text):\n",
    "    date_time = None\n",
    "    try:\n",
    "        indT = date_time_text.index('T')\n",
    "        ind_plus = date_time_text.index('+')\n",
    "        date_ = date_time_text[0:indT]\n",
    "        time_ = date_time_text[indT + 1:ind_plus]\n",
    "        deltaTme_ = date_time_text[ind_plus + 1:]\n",
    "        tmp_date = date_.split('-')\n",
    "        year_ = int(tmp_date[0])\n",
    "        mounth_ = int(tmp_date[1])\n",
    "        day_ = int(tmp_date[2])\n",
    "\n",
    "        tmp_time = time_.split(':')\n",
    "        hour_ = int(tmp_time[0])\n",
    "        minutes_ = int(tmp_time[1])\n",
    "        seconds_ = int(tmp_time[2])\n",
    "\n",
    "        tmp_time = deltaTme_.split(':')\n",
    "        d_hour_ = int(tmp_time[0])\n",
    "        d_minutes_ = int(tmp_time[1])\n",
    "\n",
    "        date_time = datetime.datetime(year_, mounth_, day_, hour_, minutes_, seconds_)\n",
    "        delta_time = datetime.timedelta(hours=d_hour_, minutes=d_minutes_)\n",
    "        date_time = date_time + delta_time\n",
    "\n",
    "    except Exception as ex:\n",
    "        print(f'mail_date_converter: ex')\n",
    "    return date_time"
   ]
  },
  {
   "cell_type": "markdown",
   "metadata": {},
   "source": [
    "Функции `request_to_yandex`, `request_to_mail_ru`, `request_to_lenta_ru` преназначены для вытягивания данных о главных новосях с сайтов. "
   ]
  },
  {
   "cell_type": "code",
   "execution_count": 8,
   "metadata": {},
   "outputs": [],
   "source": [
    "def mail_news_info(href): # Получаем сведенья о дате публикации и источнике материала для mail.ru\n",
    "    response = requests.get(href, headers=header)\n",
    "    dom = html.fromstring(response.text)\n",
    "    items = dom.xpath(\"//div[@class ='breadcrumbs breadcrumbs_article js-ago-wrapper']/*/span\")\n",
    "\n",
    "    date_time = items[0].xpath(\".//span[@class='note__text breadcrumbs__text js-ago']/@datetime\")[0]\n",
    "    source = items[1].xpath(\".//a[@class='link color_gray breadcrumbs__link']/@href\")[0]\n",
    "    return source, date_time"
   ]
  },
  {
   "cell_type": "code",
   "execution_count": 9,
   "metadata": {},
   "outputs": [],
   "source": [
    "def request_to_mail_ru():\n",
    "    news_list = []\n",
    "    try:\n",
    "        response = requests.get(mail_news, headers=header)\n",
    "        dom = html.fromstring(response.text)\n",
    "        items = dom.xpath(\"//ul[@class='list list_type_square list_half js-module']/li\")\n",
    "        for item in items:\n",
    "            news = {}\n",
    "            news_href = item.xpath(\"./a/@href\")[0]\n",
    "            if news_href.find('https://') == -1:\n",
    "                news_href = 'https://news.mail.ru' + news_href\n",
    "            news_name = item.xpath(\"./a/text()\")\n",
    "            news_source, date_time_text = mail_news_info(news_href)\n",
    "            news['date'] = mail_time_date_converter(date_time_text)\n",
    "            news['name'] = news_name[0].replace('\\xa0', ' ')\n",
    "            news['href'] = news_href\n",
    "            news['source'] = news_source\n",
    "            news_list.append(news)\n",
    "    except Exception as ex:\n",
    "        print(f'request_to_mail_ru {ex}')\n",
    "    return (news_list)"
   ]
  },
  {
   "cell_type": "code",
   "execution_count": 10,
   "metadata": {},
   "outputs": [],
   "source": [
    "def request_to_lenta_ru():\n",
    "    news_list = []\n",
    "    try:\n",
    "        response = requests.get(lenta_news, headers=header)\n",
    "        dom = html.fromstring(response.text)\n",
    "\n",
    "        items = dom.xpath(\"//section[@class='row b-top7-for-main js-top-seven']/div[@class='span4']/div\")\n",
    "        for item in items[1:-1]:  \n",
    "            news = {}\n",
    "            news_href = 'https://lenta.ru' + item.xpath(\"./a/@href\")[0]\n",
    "            news_name = item.xpath(\"./a/text()\")\n",
    "            news_date = item.xpath(\"./a/time/@datetime\") \n",
    "            news['date'] = lenta_time_date_converter(news_date[0])\n",
    "            news['name'] = news_name[0].replace('\\xa0', ' ')\n",
    "            news['href'] = news_href\n",
    "            news['source'] = 'lenta.ru'\n",
    "            news_list.append(news)\n",
    "    except Exception as ex:\n",
    "        print(f'request_to_lenta_ru {ex}')\n",
    "    return (news_list)"
   ]
  },
  {
   "cell_type": "code",
   "execution_count": 11,
   "metadata": {},
   "outputs": [],
   "source": [
    "def request_to_yandex():  # Берем новости из разряда \"Интересное\"\n",
    "    news_list = []\n",
    "    try:\n",
    "        response = requests.get(yandex_news, headers=header)\n",
    "        dom = html.fromstring(response.text)\n",
    "\n",
    "        categories = dom.xpath(\"//div[@class = 'page-content__cell']//a[contains(@class,'link link_theme_normal\"\n",
    "            \" rubric-label rubric-label_top_')]/text()\")[5:]   \n",
    "\n",
    "        print(f'Виды категорий повостей на yandex.ru/news:')\n",
    "        print(categories)\n",
    "        index = categories.index('Интересное') + 2\n",
    "        items = dom.xpath(\n",
    "            f\"//div[@class = 'page-content__cell'][{index}]//table[@class='stories-set__items']//td[@class='stories-set__item']\")\n",
    "        for item in items:\n",
    "            news = {}\n",
    "            news_name = item.xpath(\".//div[@class='story__topic']//h2[@class='story__title']/a/text()\")\n",
    "            news_source = item.xpath(\".//div[@class='story__info']/div[@class='story__date']/text()\")[0]\n",
    "            news_href = item.xpath(\".//div[@class='story__topic']//h2[@class='story__title']/a/@href\")\n",
    "            is_yesterday = False\n",
    "            if news_source.find('вчера') != -1:\n",
    "                news_source = news_source.replace('вчера', '')\n",
    "                is_yesterday = True\n",
    "            news_time = re.findall(r'\\d{2}:\\d{2}', news_source)[0]\n",
    "            news_source = news_source.replace(news_time, '')\n",
    "\n",
    "            news['date'] = yandex_time_date_converter(news_time, is_yesterday)\n",
    "            news['name'] = news_name[0].replace('\\xa0', ' ')\n",
    "            news['href'] = 'https://yandex.ru' + news_href[0]\n",
    "            news['source'] = news_source\n",
    "            news_list.append(news)\n",
    "    except Exception as ex:\n",
    "        print(f'request_to_yandex {ex}')\n",
    "    return (news_list)"
   ]
  },
  {
   "cell_type": "markdown",
   "metadata": {},
   "source": [
    "Основной код программы\n",
    "------------------------------------------------------------------------\n",
    "**1.** Волучаем данные о новостях с сайтов."
   ]
  },
  {
   "cell_type": "code",
   "execution_count": 12,
   "metadata": {},
   "outputs": [
    {
     "name": "stdout",
     "output_type": "stream",
     "text": [
      "Колличество новостей на lenta.ru : 9\n"
     ]
    }
   ],
   "source": [
    "lenta_news_list = request_to_lenta_ru()\n",
    "print(f'Колличество новостей на lenta.ru : {len(lenta_news_list)}')"
   ]
  },
  {
   "cell_type": "code",
   "execution_count": 13,
   "metadata": {},
   "outputs": [
    {
     "name": "stdout",
     "output_type": "stream",
     "text": [
      "Виды категорий повостей на yandex.ru/news:\n",
      "['Ижевск', 'Интересное', 'Политика', 'Общество', 'Экономика', 'В мире', 'Спорт', 'Происшествия', 'Культура', 'Технологии', 'Наука', 'Авто']\n",
      "Колличество новостей на yandex.ru/news : 5\n"
     ]
    }
   ],
   "source": [
    "yandex_news_list = request_to_yandex()\n",
    "print(f'Колличество новостей на yandex.ru/news : {len(yandex_news_list)}')"
   ]
  },
  {
   "cell_type": "code",
   "execution_count": 14,
   "metadata": {},
   "outputs": [
    {
     "name": "stdout",
     "output_type": "stream",
     "text": [
      "Колличество новостей на news/mail.ru : 8\n"
     ]
    }
   ],
   "source": [
    "mail_news_list = request_to_mail_ru()\n",
    "print(f'Колличество новостей на news/mail.ru : {len(mail_news_list)}')"
   ]
  },
  {
   "cell_type": "markdown",
   "metadata": {},
   "source": [
    "Выполняем подключение к БД"
   ]
  },
  {
   "cell_type": "code",
   "execution_count": 15,
   "metadata": {},
   "outputs": [],
   "source": [
    "client = MongoClient('localhost', 27017)\n",
    "db = client['yandex_news']\n",
    "db = client['mail_news']\n",
    "db = client['lenta_news']"
   ]
  },
  {
   "cell_type": "markdown",
   "metadata": {},
   "source": [
    "Новости достаточно быстро устаревают. Поэтому, добавлять сведенья о новостях не имеет смысла. \n",
    "\n",
    "**2.** Очищаем все таблицы. "
   ]
  },
  {
   "cell_type": "code",
   "execution_count": 16,
   "metadata": {},
   "outputs": [
    {
     "data": {
      "text/plain": [
       "<pymongo.results.DeleteResult at 0x1a8b8c2afc8>"
      ]
     },
     "execution_count": 16,
     "metadata": {},
     "output_type": "execute_result"
    }
   ],
   "source": [
    "db.yandex_news.delete_many({})\n",
    "db.mail_news.delete_many({})\n",
    "db.lenta_news.delete_many({})"
   ]
  },
  {
   "cell_type": "markdown",
   "metadata": {},
   "source": [
    "**3.** Заполняем таблицы новыми данными.  "
   ]
  },
  {
   "cell_type": "code",
   "execution_count": 17,
   "metadata": {},
   "outputs": [
    {
     "data": {
      "text/plain": [
       "<pymongo.results.InsertManyResult at 0x1a8b8c94308>"
      ]
     },
     "execution_count": 17,
     "metadata": {},
     "output_type": "execute_result"
    }
   ],
   "source": [
    "db.yandex_news.insert_many(yandex_news_list)\n",
    "db.mail_news.insert_many(mail_news_list)\n",
    "db.lenta_news.insert_many(lenta_news_list)"
   ]
  },
  {
   "cell_type": "markdown",
   "metadata": {},
   "source": [
    "**4.** Проверка"
   ]
  },
  {
   "cell_type": "code",
   "execution_count": 18,
   "metadata": {},
   "outputs": [
    {
     "data": {
      "text/html": [
       "<div>\n",
       "<style scoped>\n",
       "    .dataframe tbody tr th:only-of-type {\n",
       "        vertical-align: middle;\n",
       "    }\n",
       "\n",
       "    .dataframe tbody tr th {\n",
       "        vertical-align: top;\n",
       "    }\n",
       "\n",
       "    .dataframe thead th {\n",
       "        text-align: right;\n",
       "    }\n",
       "</style>\n",
       "<table border=\"1\" class=\"dataframe\">\n",
       "  <thead>\n",
       "    <tr style=\"text-align: right;\">\n",
       "      <th></th>\n",
       "      <th>date</th>\n",
       "      <th>name</th>\n",
       "      <th>href</th>\n",
       "      <th>source</th>\n",
       "    </tr>\n",
       "  </thead>\n",
       "  <tbody>\n",
       "    <tr>\n",
       "      <th>0</th>\n",
       "      <td>2020-07-06 00:53:00</td>\n",
       "      <td>Белоруссия захотела «зацепиться зубами» за рос...</td>\n",
       "      <td>https://lenta.ru/news/2020/07/06/prod/</td>\n",
       "      <td>lenta.ru</td>\n",
       "    </tr>\n",
       "    <tr>\n",
       "      <th>1</th>\n",
       "      <td>2020-07-06 00:37:00</td>\n",
       "      <td>В Москве отвергли возможность второй волны кор...</td>\n",
       "      <td>https://lenta.ru/news/2020/07/06/msk_scnd_wave/</td>\n",
       "      <td>lenta.ru</td>\n",
       "    </tr>\n",
       "    <tr>\n",
       "      <th>2</th>\n",
       "      <td>2020-07-06 00:08:00</td>\n",
       "      <td>Появилось видео из чемпионской раздевалки «Зен...</td>\n",
       "      <td>https://lenta.ru/news/2020/07/06/zenitrazdevalka/</td>\n",
       "      <td>lenta.ru</td>\n",
       "    </tr>\n",
       "    <tr>\n",
       "      <th>3</th>\n",
       "      <td>2020-07-06 00:03:00</td>\n",
       "      <td>Девятилетняя россиянка умерла от удара током в...</td>\n",
       "      <td>https://lenta.ru/news/2020/07/05/fontan/</td>\n",
       "      <td>lenta.ru</td>\n",
       "    </tr>\n",
       "    <tr>\n",
       "      <th>4</th>\n",
       "      <td>2020-07-06 00:02:00</td>\n",
       "      <td>США «потеряли» стелс-ракету</td>\n",
       "      <td>https://lenta.ru/news/2020/07/06/navy/</td>\n",
       "      <td>lenta.ru</td>\n",
       "    </tr>\n",
       "    <tr>\n",
       "      <th>5</th>\n",
       "      <td>2020-07-05 23:40:00</td>\n",
       "      <td>В Москве скончались 22 пациента с коронавирусом</td>\n",
       "      <td>https://lenta.ru/news/2020/07/05/22_corona/</td>\n",
       "      <td>lenta.ru</td>\n",
       "    </tr>\n",
       "    <tr>\n",
       "      <th>6</th>\n",
       "      <td>2020-07-05 23:35:00</td>\n",
       "      <td>Зюганов оценил слова Путина о «мине замедленно...</td>\n",
       "      <td>https://lenta.ru/news/2020/07/05/zuganov/</td>\n",
       "      <td>lenta.ru</td>\n",
       "    </tr>\n",
       "    <tr>\n",
       "      <th>7</th>\n",
       "      <td>2020-07-05 23:14:00</td>\n",
       "      <td>Раскрыто состояние сбежавшей от насильников 16...</td>\n",
       "      <td>https://lenta.ru/news/2020/07/05/girl_russia/</td>\n",
       "      <td>lenta.ru</td>\n",
       "    </tr>\n",
       "    <tr>\n",
       "      <th>8</th>\n",
       "      <td>2020-07-05 22:05:00</td>\n",
       "      <td>Ученые пересмотрели способ распространения кор...</td>\n",
       "      <td>https://lenta.ru/news/2020/07/05/recommend/</td>\n",
       "      <td>lenta.ru</td>\n",
       "    </tr>\n",
       "  </tbody>\n",
       "</table>\n",
       "</div>"
      ],
      "text/plain": [
       "                 date                                               name  \\\n",
       "0 2020-07-06 00:53:00  Белоруссия захотела «зацепиться зубами» за рос...   \n",
       "1 2020-07-06 00:37:00  В Москве отвергли возможность второй волны кор...   \n",
       "2 2020-07-06 00:08:00  Появилось видео из чемпионской раздевалки «Зен...   \n",
       "3 2020-07-06 00:03:00  Девятилетняя россиянка умерла от удара током в...   \n",
       "4 2020-07-06 00:02:00                        США «потеряли» стелс-ракету   \n",
       "5 2020-07-05 23:40:00    В Москве скончались 22 пациента с коронавирусом   \n",
       "6 2020-07-05 23:35:00  Зюганов оценил слова Путина о «мине замедленно...   \n",
       "7 2020-07-05 23:14:00  Раскрыто состояние сбежавшей от насильников 16...   \n",
       "8 2020-07-05 22:05:00  Ученые пересмотрели способ распространения кор...   \n",
       "\n",
       "                                                href    source  \n",
       "0             https://lenta.ru/news/2020/07/06/prod/  lenta.ru  \n",
       "1    https://lenta.ru/news/2020/07/06/msk_scnd_wave/  lenta.ru  \n",
       "2  https://lenta.ru/news/2020/07/06/zenitrazdevalka/  lenta.ru  \n",
       "3           https://lenta.ru/news/2020/07/05/fontan/  lenta.ru  \n",
       "4             https://lenta.ru/news/2020/07/06/navy/  lenta.ru  \n",
       "5        https://lenta.ru/news/2020/07/05/22_corona/  lenta.ru  \n",
       "6          https://lenta.ru/news/2020/07/05/zuganov/  lenta.ru  \n",
       "7      https://lenta.ru/news/2020/07/05/girl_russia/  lenta.ru  \n",
       "8        https://lenta.ru/news/2020/07/05/recommend/  lenta.ru  "
      ]
     },
     "execution_count": 18,
     "metadata": {},
     "output_type": "execute_result"
    }
   ],
   "source": [
    "pd.DataFrame(db.lenta_news.find({},{'_id':0}))"
   ]
  },
  {
   "cell_type": "code",
   "execution_count": 19,
   "metadata": {},
   "outputs": [
    {
     "data": {
      "text/html": [
       "<div>\n",
       "<style scoped>\n",
       "    .dataframe tbody tr th:only-of-type {\n",
       "        vertical-align: middle;\n",
       "    }\n",
       "\n",
       "    .dataframe tbody tr th {\n",
       "        vertical-align: top;\n",
       "    }\n",
       "\n",
       "    .dataframe thead th {\n",
       "        text-align: right;\n",
       "    }\n",
       "</style>\n",
       "<table border=\"1\" class=\"dataframe\">\n",
       "  <thead>\n",
       "    <tr style=\"text-align: right;\">\n",
       "      <th></th>\n",
       "      <th>date</th>\n",
       "      <th>name</th>\n",
       "      <th>href</th>\n",
       "      <th>source</th>\n",
       "    </tr>\n",
       "  </thead>\n",
       "  <tbody>\n",
       "    <tr>\n",
       "      <th>0</th>\n",
       "      <td>2020-07-06 00:09:00</td>\n",
       "      <td>Вторая волна коронавируса может совпасть со вс...</td>\n",
       "      <td>https://yandex.ru/news/story/Vtoraya_volna_kor...</td>\n",
       "      <td>Газета.Ru</td>\n",
       "    </tr>\n",
       "    <tr>\n",
       "      <th>1</th>\n",
       "      <td>2020-07-05 11:30:00</td>\n",
       "      <td>Актер Виктор Проскурин похоронен на Троекуровс...</td>\n",
       "      <td>https://yandex.ru/news/story/Akter_Viktor_Pros...</td>\n",
       "      <td>Национальная служба новостей  в</td>\n",
       "    </tr>\n",
       "    <tr>\n",
       "      <th>2</th>\n",
       "      <td>2020-07-06 00:54:00</td>\n",
       "      <td>Указание пола уберут из удостоверений личности...</td>\n",
       "      <td>https://yandex.ru/news/story/Ukazanie_pola_ube...</td>\n",
       "      <td>Газета.Ru</td>\n",
       "    </tr>\n",
       "    <tr>\n",
       "      <th>3</th>\n",
       "      <td>2020-07-05 23:57:00</td>\n",
       "      <td>Alfa Romeo оштрафовали на 5000 евро</td>\n",
       "      <td>https://yandex.ru/news/story/Alfa_Romeo_oshtra...</td>\n",
       "      <td>F1news.ru  в</td>\n",
       "    </tr>\n",
       "    <tr>\n",
       "      <th>4</th>\n",
       "      <td>2020-07-05 21:10:00</td>\n",
       "      <td>Evanescence показали свои настоящие чувства в ...</td>\n",
       "      <td>https://yandex.ru/news/story/Evanescence_pokaz...</td>\n",
       "      <td>ИА InterMedia  в</td>\n",
       "    </tr>\n",
       "  </tbody>\n",
       "</table>\n",
       "</div>"
      ],
      "text/plain": [
       "                 date                                               name  \\\n",
       "0 2020-07-06 00:09:00  Вторая волна коронавируса может совпасть со вс...   \n",
       "1 2020-07-05 11:30:00  Актер Виктор Проскурин похоронен на Троекуровс...   \n",
       "2 2020-07-06 00:54:00  Указание пола уберут из удостоверений личности...   \n",
       "3 2020-07-05 23:57:00                Alfa Romeo оштрафовали на 5000 евро   \n",
       "4 2020-07-05 21:10:00  Evanescence показали свои настоящие чувства в ...   \n",
       "\n",
       "                                                href  \\\n",
       "0  https://yandex.ru/news/story/Vtoraya_volna_kor...   \n",
       "1  https://yandex.ru/news/story/Akter_Viktor_Pros...   \n",
       "2  https://yandex.ru/news/story/Ukazanie_pola_ube...   \n",
       "3  https://yandex.ru/news/story/Alfa_Romeo_oshtra...   \n",
       "4  https://yandex.ru/news/story/Evanescence_pokaz...   \n",
       "\n",
       "                             source  \n",
       "0                        Газета.Ru   \n",
       "1  Национальная служба новостей  в   \n",
       "2                        Газета.Ru   \n",
       "3                     F1news.ru  в   \n",
       "4                 ИА InterMedia  в   "
      ]
     },
     "execution_count": 19,
     "metadata": {},
     "output_type": "execute_result"
    }
   ],
   "source": [
    "pd.DataFrame(db.yandex_news.find({},{'_id':0}))"
   ]
  },
  {
   "cell_type": "code",
   "execution_count": 20,
   "metadata": {},
   "outputs": [
    {
     "data": {
      "text/html": [
       "<div>\n",
       "<style scoped>\n",
       "    .dataframe tbody tr th:only-of-type {\n",
       "        vertical-align: middle;\n",
       "    }\n",
       "\n",
       "    .dataframe tbody tr th {\n",
       "        vertical-align: top;\n",
       "    }\n",
       "\n",
       "    .dataframe thead th {\n",
       "        text-align: right;\n",
       "    }\n",
       "</style>\n",
       "<table border=\"1\" class=\"dataframe\">\n",
       "  <thead>\n",
       "    <tr style=\"text-align: right;\">\n",
       "      <th></th>\n",
       "      <th>date</th>\n",
       "      <th>name</th>\n",
       "      <th>href</th>\n",
       "      <th>source</th>\n",
       "    </tr>\n",
       "  </thead>\n",
       "  <tbody>\n",
       "    <tr>\n",
       "      <th>0</th>\n",
       "      <td>2020-07-05 18:23:38</td>\n",
       "      <td>ДНК мужчины, обнаруженная в пробе Зайцевой, пр...</td>\n",
       "      <td>https://sportmail.ru/news/biathlon/42453328/</td>\n",
       "      <td>http://www.tass.ru/</td>\n",
       "    </tr>\n",
       "    <tr>\n",
       "      <th>1</th>\n",
       "      <td>2020-07-06 02:14:34</td>\n",
       "      <td>Ученый пришел к неожиданным выводам о происхож...</td>\n",
       "      <td>https://news.mail.ru/society/42455282/</td>\n",
       "      <td>http://www.tass.ru/</td>\n",
       "    </tr>\n",
       "    <tr>\n",
       "      <th>2</th>\n",
       "      <td>2020-07-05 16:32:58</td>\n",
       "      <td>Экс-премьер ДНР: республики Донбасса скоро ста...</td>\n",
       "      <td>https://news.mail.ru/politics/42450563/</td>\n",
       "      <td>http://www.kommersant.ru</td>\n",
       "    </tr>\n",
       "    <tr>\n",
       "      <th>3</th>\n",
       "      <td>2020-07-05 17:30:52</td>\n",
       "      <td>Актер Вилле Хаапасало стал продавать хачапури ...</td>\n",
       "      <td>https://news.mail.ru/society/42452968/</td>\n",
       "      <td>https://news.mail.ru</td>\n",
       "    </tr>\n",
       "    <tr>\n",
       "      <th>4</th>\n",
       "      <td>2020-07-05 14:59:20</td>\n",
       "      <td>Четыре человека погибли при обрушении перекрыт...</td>\n",
       "      <td>https://news.mail.ru/incident/42451656/</td>\n",
       "      <td>http://www.tass.ru/</td>\n",
       "    </tr>\n",
       "    <tr>\n",
       "      <th>5</th>\n",
       "      <td>2020-07-06 03:17:03</td>\n",
       "      <td>День в истории: 6 июля</td>\n",
       "      <td>https://news.mail.ru/society/42422886/</td>\n",
       "      <td>https://news.mail.ru</td>\n",
       "    </tr>\n",
       "    <tr>\n",
       "      <th>6</th>\n",
       "      <td>2020-07-05 21:11:10</td>\n",
       "      <td>В Чикаго в День независимости расстреляли прох...</td>\n",
       "      <td>https://news.mail.ru/incident/42454320/</td>\n",
       "      <td>https://life.ru/</td>\n",
       "    </tr>\n",
       "    <tr>\n",
       "      <th>7</th>\n",
       "      <td>2020-07-05 18:20:12</td>\n",
       "      <td>Россиянам рассказали о синдроме «постковидного...</td>\n",
       "      <td>https://news.mail.ru/society/42449551/</td>\n",
       "      <td>http://www.kp.ru</td>\n",
       "    </tr>\n",
       "  </tbody>\n",
       "</table>\n",
       "</div>"
      ],
      "text/plain": [
       "                 date                                               name  \\\n",
       "0 2020-07-05 18:23:38  ДНК мужчины, обнаруженная в пробе Зайцевой, пр...   \n",
       "1 2020-07-06 02:14:34  Ученый пришел к неожиданным выводам о происхож...   \n",
       "2 2020-07-05 16:32:58  Экс-премьер ДНР: республики Донбасса скоро ста...   \n",
       "3 2020-07-05 17:30:52  Актер Вилле Хаапасало стал продавать хачапури ...   \n",
       "4 2020-07-05 14:59:20  Четыре человека погибли при обрушении перекрыт...   \n",
       "5 2020-07-06 03:17:03                             День в истории: 6 июля   \n",
       "6 2020-07-05 21:11:10  В Чикаго в День независимости расстреляли прох...   \n",
       "7 2020-07-05 18:20:12  Россиянам рассказали о синдроме «постковидного...   \n",
       "\n",
       "                                           href                    source  \n",
       "0  https://sportmail.ru/news/biathlon/42453328/       http://www.tass.ru/  \n",
       "1        https://news.mail.ru/society/42455282/       http://www.tass.ru/  \n",
       "2       https://news.mail.ru/politics/42450563/  http://www.kommersant.ru  \n",
       "3        https://news.mail.ru/society/42452968/      https://news.mail.ru  \n",
       "4       https://news.mail.ru/incident/42451656/       http://www.tass.ru/  \n",
       "5        https://news.mail.ru/society/42422886/      https://news.mail.ru  \n",
       "6       https://news.mail.ru/incident/42454320/          https://life.ru/  \n",
       "7        https://news.mail.ru/society/42449551/          http://www.kp.ru  "
      ]
     },
     "execution_count": 20,
     "metadata": {},
     "output_type": "execute_result"
    }
   ],
   "source": [
    "pd.DataFrame(db.mail_news.find({},{'_id':0}))"
   ]
  }
 ],
 "metadata": {
  "kernelspec": {
   "display_name": "Python 3",
   "language": "python",
   "name": "python3"
  },
  "language_info": {
   "codemirror_mode": {
    "name": "ipython",
    "version": 3
   },
   "file_extension": ".py",
   "mimetype": "text/x-python",
   "name": "python",
   "nbconvert_exporter": "python",
   "pygments_lexer": "ipython3",
   "version": "3.7.6"
  }
 },
 "nbformat": 4,
 "nbformat_minor": 4
}
